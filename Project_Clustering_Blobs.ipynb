{
  "nbformat": 4,
  "nbformat_minor": 0,
  "metadata": {
    "kernelspec": {
      "display_name": "Python 3",
      "language": "python",
      "name": "python3"
    },
    "language_info": {
      "codemirror_mode": {
        "name": "ipython",
        "version": 3
      },
      "file_extension": ".py",
      "mimetype": "text/x-python",
      "name": "python",
      "nbconvert_exporter": "python",
      "pygments_lexer": "ipython3",
      "version": "3.8.3"
    },
    "colab": {
      "name": "Project Clustering Blobs.ipynb",
      "provenance": []
    }
  },
  "cells": [
    {
      "cell_type": "markdown",
      "metadata": {
        "id": "K6uszEF-tg6Q"
      },
      "source": [
        "# Unsupervised Machine Learning - KMeans\n",
        "\n",
        "Support vector machines (SVMs) are a set of supervised learning methods used for classification, regression and outliers detection. SVMs are one of the most robust prediction methods. \n",
        "\n",
        "Sources: \n",
        "[sklearn](https://scikit-learn.org/stable/modules/generated/sklearn.cluster.KMeans.html?highlight=kmeans#sklearn.cluster.KMeans), [wikipedia](https://en.wikipedia.org/wiki/K-means_clustering)"
      ]
    },
    {
      "cell_type": "markdown",
      "metadata": {
        "id": "fUB89AR6C5Br"
      },
      "source": [
        "![kmeans.png](https://www.mathworks.com/matlabcentral/mlc-downloads/downloads/submissions/52579/versions/9/screenshot.jpg)"
      ]
    },
    {
      "cell_type": "code",
      "metadata": {
        "id": "mg2cg_7aclGA"
      },
      "source": [
        ""
      ],
      "execution_count": null,
      "outputs": []
    },
    {
      "cell_type": "code",
      "metadata": {
        "id": "yt9x-T9mclGB"
      },
      "source": [
        "import pandas as pd\n",
        "import numpy as np\n",
        "import matplotlib.pyplot as plt\n",
        "from sklearn import datasets\n"
      ],
      "execution_count": 22,
      "outputs": []
    },
    {
      "cell_type": "code",
      "metadata": {
        "id": "1973k65xclGC"
      },
      "source": [
        "# Take make moons in built dataset\n",
        "\n",
        "data_ = datasets.make_moons(100)"
      ],
      "execution_count": 23,
      "outputs": []
    },
    {
      "cell_type": "code",
      "metadata": {
        "id": "w1DQorBNclGC",
        "outputId": "5d18f2be-b4fa-440a-c300-bebb6e3b9893",
        "colab": {
          "base_uri": "https://localhost:8080/"
        }
      },
      "source": [
        "# check the dataset\n",
        "\n",
        "data_"
      ],
      "execution_count": 24,
      "outputs": [
        {
          "output_type": "execute_result",
          "data": {
            "text/plain": [
              "(array([[ 8.40400105e-01, -4.87181783e-01],\n",
              "        [-1.00000000e+00,  1.22464680e-16],\n",
              "        [ 1.03205158e+00, -4.99486216e-01],\n",
              "        [-4.62538290e-01,  8.86599306e-01],\n",
              "        [ 9.26916757e-01,  3.75267005e-01],\n",
              "        [ 4.04783343e-01,  9.14412623e-01],\n",
              "        [ 7.15472413e-01, -4.58667853e-01],\n",
              "        [-9.00968868e-01,  4.33883739e-01],\n",
              "        [-9.81559157e-01,  1.91158629e-01],\n",
              "        [ 9.49055747e-01,  3.15108218e-01],\n",
              "        [-9.97945393e-01,  6.40702200e-02],\n",
              "        [ 3.45365054e-01,  9.38468422e-01],\n",
              "        [ 1.00000000e+00,  0.00000000e+00],\n",
              "        [-7.18349350e-01,  6.95682551e-01],\n",
              "        [ 7.61445958e-01,  6.48228395e-01],\n",
              "        [ 2.38554042e-01, -1.48228395e-01],\n",
              "        [ 9.97945393e-01,  6.40702200e-02],\n",
              "        [ 5.09442530e-02,  1.84891782e-01],\n",
              "        [-5.72116660e-01,  8.20172255e-01],\n",
              "        [ 5.37461710e-01, -3.86599306e-01],\n",
              "        [ 9.67948422e-01, -4.99486216e-01],\n",
              "        [-2.84527587e-01,  9.58667853e-01],\n",
              "        [ 1.67230089e+00, -2.40277997e-01],\n",
              "        [ 1.98586378e-01, -9.81105305e-02],\n",
              "        [ 7.18349350e-01,  6.95682551e-01],\n",
              "        [-6.72300890e-01,  7.40277997e-01],\n",
              "        [ 4.81607432e-01, -3.55142763e-01],\n",
              "        [ 9.67294863e-01,  2.53654584e-01],\n",
              "        [ 1.90096887e+00,  6.61162609e-02],\n",
              "        [ 1.15959990e+00, -4.87181783e-01],\n",
              "        [ 1.80141362e+00, -9.81105305e-02],\n",
              "        [ 4.27883340e-01, -3.20172255e-01],\n",
              "        [ 3.20515776e-02,  9.99486216e-01],\n",
              "        [ 6.72300890e-01,  7.40277997e-01],\n",
              "        [ 1.96729486e+00,  2.46345416e-01],\n",
              "        [ 1.83808810e+00, -4.55349012e-02],\n",
              "        [ 1.40478334e+00, -4.14412623e-01],\n",
              "        [ 9.91790014e-01,  1.27877162e-01],\n",
              "        [ 2.22520934e-01,  9.74927912e-01],\n",
              "        [ 2.05460725e-03,  4.35929780e-01],\n",
              "        [-1.59599895e-01,  9.87181783e-01],\n",
              "        [ 9.90311321e-02,  6.61162609e-02],\n",
              "        [ 1.99179001e+00,  3.72122838e-01],\n",
              "        [ 9.60230259e-02,  9.95379113e-01],\n",
              "        [-9.26916757e-01,  3.75267005e-01],\n",
              "        [ 1.98155916e+00,  3.08841371e-01],\n",
              "        [ 0.00000000e+00,  5.00000000e-01],\n",
              "        [ 3.27051370e-02,  2.46345416e-01],\n",
              "        [-4.04783343e-01,  9.14412623e-01],\n",
              "        [ 1.34536505e+00, -4.38468422e-01],\n",
              "        [ 1.87131870e+00,  9.28244800e-03],\n",
              "        [ 8.01413622e-01,  5.98110530e-01],\n",
              "        [ 1.76144596e+00, -1.48228395e-01],\n",
              "        [ 1.57211666e+00, -3.20172255e-01],\n",
              "        [-5.18392568e-01,  8.55142763e-01],\n",
              "        [-9.91790014e-01,  1.27877162e-01],\n",
              "        [ 5.95216657e-01, -4.14412623e-01],\n",
              "        [ 4.62538290e-01,  8.86599306e-01],\n",
              "        [-9.60230259e-02,  9.95379113e-01],\n",
              "        [ 3.76510198e-01, -2.81831482e-01],\n",
              "        [ 8.20998618e-03,  3.72122838e-01],\n",
              "        [ 9.81559157e-01,  1.91158629e-01],\n",
              "        [-3.45365054e-01,  9.38468422e-01],\n",
              "        [ 1.71834935e+00, -1.95682551e-01],\n",
              "        [ 1.28452759e+00, -4.58667853e-01],\n",
              "        [ 5.18392568e-01,  8.55142763e-01],\n",
              "        [ 7.77479066e-01, -4.74927912e-01],\n",
              "        [-3.20515776e-02,  9.99486216e-01],\n",
              "        [ 1.22252093e+00, -4.74927912e-01],\n",
              "        [ 8.71318704e-01,  4.90717552e-01],\n",
              "        [-7.61445958e-01,  6.48228395e-01],\n",
              "        [ 1.59599895e-01,  9.87181783e-01],\n",
              "        [-9.67294863e-01,  2.53654584e-01],\n",
              "        [ 5.72116660e-01,  8.20172255e-01],\n",
              "        [ 8.38088105e-01,  5.45534901e-01],\n",
              "        [-6.23489802e-01,  7.81831482e-01],\n",
              "        [ 1.28681296e-01,  9.28244800e-03],\n",
              "        [-9.49055747e-01,  3.15108218e-01],\n",
              "        [ 7.30832427e-02,  1.24732995e-01],\n",
              "        [ 1.51839257e+00, -3.55142763e-01],\n",
              "        [ 1.92691676e+00,  1.24732995e-01],\n",
              "        [-2.22520934e-01,  9.74927912e-01],\n",
              "        [ 1.62348980e+00, -2.81831482e-01],\n",
              "        [ 2.84527587e-01,  9.58667853e-01],\n",
              "        [-8.38088105e-01,  5.45534901e-01],\n",
              "        [ 2.81650650e-01, -1.95682551e-01],\n",
              "        [ 1.84408430e-02,  3.08841371e-01],\n",
              "        [ 6.54634946e-01, -4.38468422e-01],\n",
              "        [ 1.09602303e+00, -4.95379113e-01],\n",
              "        [ 6.23489802e-01,  7.81831482e-01],\n",
              "        [-8.01413622e-01,  5.98110530e-01],\n",
              "        [ 1.61911895e-01, -4.55349012e-02],\n",
              "        [ 1.46253829e+00, -3.86599306e-01],\n",
              "        [ 3.27699110e-01, -2.40277997e-01],\n",
              "        [ 9.00968868e-01,  4.33883739e-01],\n",
              "        [-8.71318704e-01,  4.90717552e-01],\n",
              "        [ 1.94905575e+00,  1.84891782e-01],\n",
              "        [ 9.03976974e-01, -4.95379113e-01],\n",
              "        [ 2.00000000e+00,  5.00000000e-01],\n",
              "        [ 1.99794539e+00,  4.35929780e-01]]),\n",
              " array([1, 0, 1, 0, 0, 0, 1, 0, 0, 0, 0, 0, 0, 0, 0, 1, 0, 1, 0, 1, 1, 0,\n",
              "        1, 1, 0, 0, 1, 0, 1, 1, 1, 1, 0, 0, 1, 1, 1, 0, 0, 1, 0, 1, 1, 0,\n",
              "        0, 1, 1, 1, 0, 1, 1, 0, 1, 1, 0, 0, 1, 0, 0, 1, 1, 0, 0, 1, 1, 0,\n",
              "        1, 0, 1, 0, 0, 0, 0, 0, 0, 0, 1, 0, 1, 1, 1, 0, 1, 0, 0, 1, 1, 1,\n",
              "        1, 0, 0, 1, 1, 1, 0, 0, 1, 1, 1, 1]))"
            ]
          },
          "metadata": {
            "tags": []
          },
          "execution_count": 24
        }
      ]
    },
    {
      "cell_type": "code",
      "metadata": {
        "id": "p39FULH3clGD",
        "outputId": "e648cdfd-5783-4edf-8b95-fd2117e6517a",
        "colab": {
          "base_uri": "https://localhost:8080/",
          "height": 204
        }
      },
      "source": [
        "# create input dataframe\n",
        "inputData = pd.DataFrame(data = data_[0])\n",
        "inputData.head()\n"
      ],
      "execution_count": 25,
      "outputs": [
        {
          "output_type": "execute_result",
          "data": {
            "text/html": [
              "<div>\n",
              "<style scoped>\n",
              "    .dataframe tbody tr th:only-of-type {\n",
              "        vertical-align: middle;\n",
              "    }\n",
              "\n",
              "    .dataframe tbody tr th {\n",
              "        vertical-align: top;\n",
              "    }\n",
              "\n",
              "    .dataframe thead th {\n",
              "        text-align: right;\n",
              "    }\n",
              "</style>\n",
              "<table border=\"1\" class=\"dataframe\">\n",
              "  <thead>\n",
              "    <tr style=\"text-align: right;\">\n",
              "      <th></th>\n",
              "      <th>0</th>\n",
              "      <th>1</th>\n",
              "    </tr>\n",
              "  </thead>\n",
              "  <tbody>\n",
              "    <tr>\n",
              "      <th>0</th>\n",
              "      <td>0.840400</td>\n",
              "      <td>-4.871818e-01</td>\n",
              "    </tr>\n",
              "    <tr>\n",
              "      <th>1</th>\n",
              "      <td>-1.000000</td>\n",
              "      <td>1.224647e-16</td>\n",
              "    </tr>\n",
              "    <tr>\n",
              "      <th>2</th>\n",
              "      <td>1.032052</td>\n",
              "      <td>-4.994862e-01</td>\n",
              "    </tr>\n",
              "    <tr>\n",
              "      <th>3</th>\n",
              "      <td>-0.462538</td>\n",
              "      <td>8.865993e-01</td>\n",
              "    </tr>\n",
              "    <tr>\n",
              "      <th>4</th>\n",
              "      <td>0.926917</td>\n",
              "      <td>3.752670e-01</td>\n",
              "    </tr>\n",
              "  </tbody>\n",
              "</table>\n",
              "</div>"
            ],
            "text/plain": [
              "          0             1\n",
              "0  0.840400 -4.871818e-01\n",
              "1 -1.000000  1.224647e-16\n",
              "2  1.032052 -4.994862e-01\n",
              "3 -0.462538  8.865993e-01\n",
              "4  0.926917  3.752670e-01"
            ]
          },
          "metadata": {
            "tags": []
          },
          "execution_count": 25
        }
      ]
    },
    {
      "cell_type": "code",
      "metadata": {
        "id": "zt0Ie8qLclGE",
        "outputId": "8a8a521e-1075-4b67-c5b7-4f3f756b660f",
        "colab": {
          "base_uri": "https://localhost:8080/",
          "height": 204
        }
      },
      "source": [
        "inputData.head()"
      ],
      "execution_count": 26,
      "outputs": [
        {
          "output_type": "execute_result",
          "data": {
            "text/html": [
              "<div>\n",
              "<style scoped>\n",
              "    .dataframe tbody tr th:only-of-type {\n",
              "        vertical-align: middle;\n",
              "    }\n",
              "\n",
              "    .dataframe tbody tr th {\n",
              "        vertical-align: top;\n",
              "    }\n",
              "\n",
              "    .dataframe thead th {\n",
              "        text-align: right;\n",
              "    }\n",
              "</style>\n",
              "<table border=\"1\" class=\"dataframe\">\n",
              "  <thead>\n",
              "    <tr style=\"text-align: right;\">\n",
              "      <th></th>\n",
              "      <th>0</th>\n",
              "      <th>1</th>\n",
              "    </tr>\n",
              "  </thead>\n",
              "  <tbody>\n",
              "    <tr>\n",
              "      <th>0</th>\n",
              "      <td>0.840400</td>\n",
              "      <td>-4.871818e-01</td>\n",
              "    </tr>\n",
              "    <tr>\n",
              "      <th>1</th>\n",
              "      <td>-1.000000</td>\n",
              "      <td>1.224647e-16</td>\n",
              "    </tr>\n",
              "    <tr>\n",
              "      <th>2</th>\n",
              "      <td>1.032052</td>\n",
              "      <td>-4.994862e-01</td>\n",
              "    </tr>\n",
              "    <tr>\n",
              "      <th>3</th>\n",
              "      <td>-0.462538</td>\n",
              "      <td>8.865993e-01</td>\n",
              "    </tr>\n",
              "    <tr>\n",
              "      <th>4</th>\n",
              "      <td>0.926917</td>\n",
              "      <td>3.752670e-01</td>\n",
              "    </tr>\n",
              "  </tbody>\n",
              "</table>\n",
              "</div>"
            ],
            "text/plain": [
              "          0             1\n",
              "0  0.840400 -4.871818e-01\n",
              "1 -1.000000  1.224647e-16\n",
              "2  1.032052 -4.994862e-01\n",
              "3 -0.462538  8.865993e-01\n",
              "4  0.926917  3.752670e-01"
            ]
          },
          "metadata": {
            "tags": []
          },
          "execution_count": 26
        }
      ]
    },
    {
      "cell_type": "code",
      "metadata": {
        "id": "d1hcMue7clGF",
        "outputId": "941ea667-63e3-4a5f-fed8-505dbc2cfba3",
        "colab": {
          "base_uri": "https://localhost:8080/",
          "height": 204
        }
      },
      "source": [
        "# create output dataframe\n",
        "outputData = pd.DataFrame(data = data_[1])\n",
        "outputData.head()"
      ],
      "execution_count": 28,
      "outputs": [
        {
          "output_type": "execute_result",
          "data": {
            "text/html": [
              "<div>\n",
              "<style scoped>\n",
              "    .dataframe tbody tr th:only-of-type {\n",
              "        vertical-align: middle;\n",
              "    }\n",
              "\n",
              "    .dataframe tbody tr th {\n",
              "        vertical-align: top;\n",
              "    }\n",
              "\n",
              "    .dataframe thead th {\n",
              "        text-align: right;\n",
              "    }\n",
              "</style>\n",
              "<table border=\"1\" class=\"dataframe\">\n",
              "  <thead>\n",
              "    <tr style=\"text-align: right;\">\n",
              "      <th></th>\n",
              "      <th>0</th>\n",
              "    </tr>\n",
              "  </thead>\n",
              "  <tbody>\n",
              "    <tr>\n",
              "      <th>0</th>\n",
              "      <td>1</td>\n",
              "    </tr>\n",
              "    <tr>\n",
              "      <th>1</th>\n",
              "      <td>0</td>\n",
              "    </tr>\n",
              "    <tr>\n",
              "      <th>2</th>\n",
              "      <td>1</td>\n",
              "    </tr>\n",
              "    <tr>\n",
              "      <th>3</th>\n",
              "      <td>0</td>\n",
              "    </tr>\n",
              "    <tr>\n",
              "      <th>4</th>\n",
              "      <td>0</td>\n",
              "    </tr>\n",
              "  </tbody>\n",
              "</table>\n",
              "</div>"
            ],
            "text/plain": [
              "   0\n",
              "0  1\n",
              "1  0\n",
              "2  1\n",
              "3  0\n",
              "4  0"
            ]
          },
          "metadata": {
            "tags": []
          },
          "execution_count": 28
        }
      ]
    },
    {
      "cell_type": "code",
      "metadata": {
        "id": "aMjg8Ro-clGF",
        "outputId": "56470a88-5a88-4e87-b2b4-d8f4cc6dd364",
        "colab": {
          "base_uri": "https://localhost:8080/",
          "height": 282
        }
      },
      "source": [
        "# create a scatter plot for inputData set\n",
        "\n",
        "plt.scatter(inputData[0], inputData[1])\n"
      ],
      "execution_count": 29,
      "outputs": [
        {
          "output_type": "execute_result",
          "data": {
            "text/plain": [
              "<matplotlib.collections.PathCollection at 0x7f5d48bbb910>"
            ]
          },
          "metadata": {
            "tags": []
          },
          "execution_count": 29
        },
        {
          "output_type": "display_data",
          "data": {
            "image/png": "[encoded data removed]",
            "text/plain": [
              "<Figure size 432x288 with 1 Axes>"
            ]
          },
          "metadata": {
            "tags": [],
            "needs_background": "light"
          }
        }
      ]
    },
    {
      "cell_type": "code",
      "metadata": {
        "id": "Z5GOs8WLclGG",
        "outputId": "7edaa76a-3ed3-414c-fb16-c0c139a57ea1",
        "colab": {
          "base_uri": "https://localhost:8080/",
          "height": 204
        }
      },
      "source": [
        "# create a scatter plot for inputData set with outputData color\n",
        "outputData = pd.DataFrame(data = data_[1])\n",
        "outputData.head()\n"
      ],
      "execution_count": 30,
      "outputs": [
        {
          "output_type": "execute_result",
          "data": {
            "text/html": [
              "<div>\n",
              "<style scoped>\n",
              "    .dataframe tbody tr th:only-of-type {\n",
              "        vertical-align: middle;\n",
              "    }\n",
              "\n",
              "    .dataframe tbody tr th {\n",
              "        vertical-align: top;\n",
              "    }\n",
              "\n",
              "    .dataframe thead th {\n",
              "        text-align: right;\n",
              "    }\n",
              "</style>\n",
              "<table border=\"1\" class=\"dataframe\">\n",
              "  <thead>\n",
              "    <tr style=\"text-align: right;\">\n",
              "      <th></th>\n",
              "      <th>0</th>\n",
              "    </tr>\n",
              "  </thead>\n",
              "  <tbody>\n",
              "    <tr>\n",
              "      <th>0</th>\n",
              "      <td>1</td>\n",
              "    </tr>\n",
              "    <tr>\n",
              "      <th>1</th>\n",
              "      <td>0</td>\n",
              "    </tr>\n",
              "    <tr>\n",
              "      <th>2</th>\n",
              "      <td>1</td>\n",
              "    </tr>\n",
              "    <tr>\n",
              "      <th>3</th>\n",
              "      <td>0</td>\n",
              "    </tr>\n",
              "    <tr>\n",
              "      <th>4</th>\n",
              "      <td>0</td>\n",
              "    </tr>\n",
              "  </tbody>\n",
              "</table>\n",
              "</div>"
            ],
            "text/plain": [
              "   0\n",
              "0  1\n",
              "1  0\n",
              "2  1\n",
              "3  0\n",
              "4  0"
            ]
          },
          "metadata": {
            "tags": []
          },
          "execution_count": 30
        }
      ]
    },
    {
      "cell_type": "code",
      "metadata": {
        "id": "udNQD1-aclGG"
      },
      "source": [
        ""
      ],
      "execution_count": null,
      "outputs": []
    },
    {
      "cell_type": "code",
      "metadata": {
        "id": "dMZ2vqFLclGH",
        "outputId": "90d242a6-2d57-4550-c985-fd9f6b534f1d",
        "colab": {
          "base_uri": "https://localhost:8080/"
        }
      },
      "source": [
        "# Call the sklearn Kmeans and make a model with 200 samples\n",
        "\n",
        "from sklearn.cluster import KMeans\n",
        "\n",
        "model = KMeans(n_clusters=5)\n",
        "model.fit(inputData)\n",
        "#model_fit\n"
      ],
      "execution_count": 31,
      "outputs": [
        {
          "output_type": "execute_result",
          "data": {
            "text/plain": [
              "KMeans(algorithm='auto', copy_x=True, init='k-means++', max_iter=300,\n",
              "       n_clusters=5, n_init=10, n_jobs=None, precompute_distances='auto',\n",
              "       random_state=None, tol=0.0001, verbose=0)"
            ]
          },
          "metadata": {
            "tags": []
          },
          "execution_count": 31
        }
      ]
    },
    {
      "cell_type": "code",
      "metadata": {
        "id": "zQsVSTNKclGH",
        "outputId": "342dccc4-a5a6-4e9f-f6e1-ed3d3efd80b2",
        "colab": {
          "base_uri": "https://localhost:8080/"
        }
      },
      "source": [
        "# check for labels\n",
        "\n",
        "model.labels_"
      ],
      "execution_count": 32,
      "outputs": [
        {
          "output_type": "execute_result",
          "data": {
            "text/plain": [
              "array([4, 2, 4, 2, 3, 3, 4, 2, 2, 4, 2, 3, 4, 2, 3, 0, 4, 0, 2, 4, 4, 2,\n",
              "       1, 0, 3, 2, 4, 4, 1, 4, 1, 0, 3, 3, 1, 1, 4, 4, 3, 0, 3, 0, 1, 3,\n",
              "       2, 1, 0, 0, 2, 4, 1, 3, 1, 1, 2, 2, 4, 3, 3, 0, 0, 4, 2, 1, 4, 3,\n",
              "       4, 3, 4, 3, 2, 3, 2, 3, 3, 2, 0, 2, 0, 1, 1, 2, 1, 3, 2, 0, 0, 4,\n",
              "       4, 3, 2, 0, 4, 0, 3, 2, 1, 4, 1, 1], dtype=int32)"
            ]
          },
          "metadata": {
            "tags": []
          },
          "execution_count": 32
        }
      ]
    },
    {
      "cell_type": "code",
      "metadata": {
        "id": "dsu3ol6YclGI"
      },
      "source": [
        ""
      ],
      "execution_count": null,
      "outputs": []
    },
    {
      "cell_type": "code",
      "metadata": {
        "id": "clkwsil-clGI",
        "outputId": "83fa9da3-0820-4b7b-8947-16ba844ee8dd",
        "colab": {
          "base_uri": "https://localhost:8080/"
        }
      },
      "source": [
        "# call metrics and check silhoutte score\n",
        "from sklearn import metrics\n",
        "metrics.silhouette_score(inputData, model.labels_)"
      ],
      "execution_count": 33,
      "outputs": [
        {
          "output_type": "execute_result",
          "data": {
            "text/plain": [
              "0.473852815276961"
            ]
          },
          "metadata": {
            "tags": []
          },
          "execution_count": 33
        }
      ]
    },
    {
      "cell_type": "code",
      "metadata": {
        "id": "JJRccPAnclGI",
        "outputId": "e69b85e7-533a-4132-c525-37172b8cf263",
        "colab": {
          "base_uri": "https://localhost:8080/",
          "height": 282
        }
      },
      "source": [
        "# create a scatter plot for inputData set with model labels color\n",
        "\n",
        "plt.scatter(inputData[0], inputData[1], c = model.labels_)"
      ],
      "execution_count": 34,
      "outputs": [
        {
          "output_type": "execute_result",
          "data": {
            "text/plain": [
              "<matplotlib.collections.PathCollection at 0x7f5d48b34950>"
            ]
          },
          "metadata": {
            "tags": []
          },
          "execution_count": 34
        },
        {
          "output_type": "display_data",
          "data": {
            "image/png": "[encoded data removed]",
            "text/plain": [
              "<Figure size 432x288 with 1 Axes>"
            ]
          },
          "metadata": {
            "tags": [],
            "needs_background": "light"
          }
        }
      ]
    },
    {
      "cell_type": "markdown",
      "metadata": {
        "id": "PW8edxKWclGJ"
      },
      "source": [
        "#### finding right number of cluster"
      ]
    },
    {
      "cell_type": "code",
      "metadata": {
        "id": "VeSeCApWclGJ"
      },
      "source": [
        "cluster_range = range(1, 20)\n",
        "error_list = []\n",
        "\n",
        "for i in cluster_range:\n",
        "    model = KMeans(n_clusters=i)\n",
        "    model.fit(inputData)\n",
        "    res = model.inertia_\n",
        "    error_list.append(res)"
      ],
      "execution_count": 35,
      "outputs": []
    },
    {
      "cell_type": "code",
      "metadata": {
        "id": "TNngcKSkclGK",
        "outputId": "15abb678-a8d3-4627-de15-feba5a1b2b58",
        "colab": {
          "base_uri": "https://localhost:8080/",
          "height": 295
        }
      },
      "source": [
        "import matplotlib.pyplot as plt\n",
        "\n",
        "plt.plot(cluster_range, error_list, marker = \"o\", color = \"g\", markersize = 10)\n",
        "plt.xlabel(\"Cluster Range\")\n",
        "plt.ylabel(\"IntraCluster Sum\")\n",
        "plt.title(\"KMeans\")\n",
        "plt.show()"
      ],
      "execution_count": 37,
      "outputs": [
        {
          "output_type": "display_data",
          "data": {
            "image/png": "[encoded data removed]",
            "text/plain": [
              "<Figure size 432x288 with 1 Axes>"
            ]
          },
          "metadata": {
            "tags": [],
            "needs_background": "light"
          }
        }
      ]
    },
    {
      "cell_type": "code",
      "metadata": {
        "id": "nNDbQ7RLclGK"
      },
      "source": [
        ""
      ],
      "execution_count": null,
      "outputs": []
    },
    {
      "cell_type": "code",
      "metadata": {
        "id": "BSPpvo9FclGL"
      },
      "source": [
        ""
      ],
      "execution_count": null,
      "outputs": []
    }
  ]
}